{
 "cells": [
  {
   "cell_type": "code",
   "execution_count": null,
   "metadata": {},
   "outputs": [],
   "source": [
    "from util import *\n",
    "from PIL import Image\n",
    "\n",
    "api_key = ''  # Enter your open-ai api key here\n",
    "\n",
    "ans1 = RAG(\"what is lung cancer and what should i do\", api_key=api_key)\n",
    "print(\"-------- Casual Answer --------\\n\",ans1)\n",
    "img = Image.open(\"chest.png\").convert(\"RGB\")\n",
    "report = MRG(img, api_key=api_key)\n",
    "print(\"-------- Medical Report --------\\n\",report)\n",
    "ans2 = RAG(report, api_key=api_key)\n",
    "print(\"-------- Medical Suggestion --------\\n\",ans2)"
   ]
  }
 ],
 "metadata": {
  "kernelspec": {
   "display_name": "chatcad",
   "language": "python",
   "name": "python3"
  },
  "language_info": {
   "codemirror_mode": {
    "name": "ipython",
    "version": 3
   },
   "file_extension": ".py",
   "mimetype": "text/x-python",
   "name": "python",
   "nbconvert_exporter": "python",
   "pygments_lexer": "ipython3",
   "version": "3.10.14"
  }
 },
 "nbformat": 4,
 "nbformat_minor": 2
}
